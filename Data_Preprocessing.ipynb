{
 "cells": [
  {
   "cell_type": "code",
   "execution_count": 2,
   "metadata": {},
   "outputs": [
    {
     "name": "stdout",
     "output_type": "stream",
     "text": [
      "Requirement already satisfied: pandas in c:\\python312\\lib\\site-packages (2.2.2)\n",
      "Requirement already satisfied: numpy>=1.26.0 in c:\\python312\\lib\\site-packages (from pandas) (2.0.2)\n",
      "Requirement already satisfied: python-dateutil>=2.8.2 in c:\\users\\dinon\\appdata\\roaming\\python\\python312\\site-packages (from pandas) (2.9.0.post0)\n",
      "Requirement already satisfied: pytz>=2020.1 in c:\\python312\\lib\\site-packages (from pandas) (2024.1)\n",
      "Requirement already satisfied: tzdata>=2022.7 in c:\\python312\\lib\\site-packages (from pandas) (2024.1)\n",
      "Requirement already satisfied: six>=1.5 in c:\\users\\dinon\\appdata\\roaming\\python\\python312\\site-packages (from python-dateutil>=2.8.2->pandas) (1.16.0)\n",
      "Note: you may need to restart the kernel to use updated packages.\n"
     ]
    },
    {
     "name": "stderr",
     "output_type": "stream",
     "text": [
      "\n",
      "[notice] A new release of pip is available: 23.2.1 -> 24.3.1\n",
      "[notice] To update, run: python.exe -m pip install --upgrade pip\n"
     ]
    }
   ],
   "source": [
    "pip install pandas"
   ]
  },
  {
   "cell_type": "code",
   "execution_count": 3,
   "metadata": {},
   "outputs": [],
   "source": [
    "import pandas as pd"
   ]
  },
  {
   "cell_type": "code",
   "execution_count": 4,
   "metadata": {},
   "outputs": [],
   "source": [
    "data = pd.read_csv('Data.csv')"
   ]
  },
  {
   "cell_type": "code",
   "execution_count": 5,
   "metadata": {},
   "outputs": [
    {
     "name": "stdout",
     "output_type": "stream",
     "text": [
      "Index(['Year', 'Country', 'Month', 'Tourist_Arrival', 'Unnamed: 4',\n",
      "       'Unnamed: 5', 'Unnamed: 6', 'Unnamed: 7', 'Unnamed: 8', 'Unnamed: 9',\n",
      "       'Unnamed: 10', 'Unnamed: 11'],\n",
      "      dtype='object')\n"
     ]
    }
   ],
   "source": [
    "print(data.columns)"
   ]
  },
  {
   "cell_type": "code",
   "execution_count": 6,
   "metadata": {},
   "outputs": [],
   "source": [
    "data = data.drop(columns=[\"Unnamed: 4\", \"Unnamed: 5\", \"Unnamed: 6\" , \"Unnamed: 7\", \"Unnamed: 8\", \"Unnamed: 9\", \"Unnamed: 10\", \"Unnamed: 11\"])"
   ]
  },
  {
   "cell_type": "code",
   "execution_count": 7,
   "metadata": {},
   "outputs": [
    {
     "name": "stdout",
     "output_type": "stream",
     "text": [
      "Index(['Year', 'Country', 'Month', 'Tourist_Arrival'], dtype='object')\n"
     ]
    }
   ],
   "source": [
    "print(data.columns)"
   ]
  },
  {
   "cell_type": "code",
   "execution_count": 8,
   "metadata": {},
   "outputs": [
    {
     "name": "stdout",
     "output_type": "stream",
     "text": [
      "<bound method NDFrame.head of        Year         Country     Month Tourist_Arrival\n",
      "0      2018           INDIA   January          37,936\n",
      "1      2018           CHINA   January          24,275\n",
      "2      2018  UNITED KINGDOM   January          22,940\n",
      "3      2018         GERMANY   January          15,298\n",
      "4      2018       AUSTRALIA   January           9,452\n",
      "...     ...             ...       ...             ...\n",
      "15894  2024       Venezuela  November              14\n",
      "15895  2024        Viet Nam  November             346\n",
      "15896  2024          Yemen   November              40\n",
      "15897  2024          Zambia  November               8\n",
      "15898  2024        Zimbabwe  November              26\n",
      "\n",
      "[15899 rows x 4 columns]>\n"
     ]
    }
   ],
   "source": [
    "print(data.head)"
   ]
  },
  {
   "cell_type": "code",
   "execution_count": 9,
   "metadata": {},
   "outputs": [
    {
     "name": "stdout",
     "output_type": "stream",
     "text": [
      "<bound method NDFrame.tail of        Year         Country     Month Tourist_Arrival\n",
      "0      2018           INDIA   January          37,936\n",
      "1      2018           CHINA   January          24,275\n",
      "2      2018  UNITED KINGDOM   January          22,940\n",
      "3      2018         GERMANY   January          15,298\n",
      "4      2018       AUSTRALIA   January           9,452\n",
      "...     ...             ...       ...             ...\n",
      "15894  2024       Venezuela  November              14\n",
      "15895  2024        Viet Nam  November             346\n",
      "15896  2024          Yemen   November              40\n",
      "15897  2024          Zambia  November               8\n",
      "15898  2024        Zimbabwe  November              26\n",
      "\n",
      "[15899 rows x 4 columns]>\n"
     ]
    }
   ],
   "source": [
    "print(data.tail)"
   ]
  },
  {
   "cell_type": "code",
   "execution_count": 11,
   "metadata": {},
   "outputs": [
    {
     "name": "stdout",
     "output_type": "stream",
     "text": [
      "Year                0\n",
      "Country             0\n",
      "Month               0\n",
      "Tourist_Arrival    50\n",
      "dtype: int64\n"
     ]
    }
   ],
   "source": [
    "print(data.isnull().sum())"
   ]
  },
  {
   "cell_type": "code",
   "execution_count": 12,
   "metadata": {},
   "outputs": [],
   "source": [
    "data['Tourist_Arrival']= data['Tourist_Arrival'].fillna(0)"
   ]
  },
  {
   "cell_type": "code",
   "execution_count": 13,
   "metadata": {},
   "outputs": [
    {
     "name": "stdout",
     "output_type": "stream",
     "text": [
      "Year               0\n",
      "Country            0\n",
      "Month              0\n",
      "Tourist_Arrival    0\n",
      "dtype: int64\n"
     ]
    }
   ],
   "source": [
    "print(data.isnull().sum())"
   ]
  },
  {
   "cell_type": "code",
   "execution_count": 14,
   "metadata": {},
   "outputs": [
    {
     "name": "stdout",
     "output_type": "stream",
     "text": [
      "['INDIA' 'CHINA' 'UNITED KINGDOM' 'GERMANY' 'AUSTRALIA' 'FRANCE'\n",
      " 'MALDIVES' 'UNITED STATES OF AMERICA' 'RUSSIAN FEDERATION' 'NETHERLANDS'\n",
      " 'CANADA' 'JAPAN' 'ITALY' 'UKRAINE' 'SAUDI ARABIA' 'SWITZERLAND' 'SPAIN'\n",
      " 'SWEDEN' 'MALAYSIA' 'POLAND' 'SINGAPORE' 'AUSTRIA' 'PHILIPPINES'\n",
      " 'DENMARK' 'PAKISTAN' 'CZECH REPUBLIC' 'BELGIUM' 'NORWAY' 'SOUTH KOREA'\n",
      " 'ISRAEL' 'NEW ZEALAND' 'IRELAND' 'BANGLADESH' 'THAILAND' 'FINLAND'\n",
      " 'TAIWAN' 'GREECE' 'SOUTH AFRICA' 'OMAN' 'PORTUGAL' 'ROMANIA'\n",
      " 'UNITED ARAB EMIRATES' 'IRAN' 'LEBANON' 'INDONESIA' 'NEPAL'\n",
      " 'SLOVAK REPUBLIC' 'BELARUS' 'HUNGARY' 'TURKEY' 'SLOVENIA' 'EGYPT'\n",
      " 'KUWAIT' 'LITHUANIA' 'MYANMAR' 'VIETNAM' 'JORDAN' 'BAHRAIN' 'BRAZIL'\n",
      " 'ESTONIA' 'KAZAKHSTAN' 'BULGARIA' 'CROATIA' 'LATVIA' 'ARGENTINA' 'SERBIA'\n",
      " 'QATAR' 'MEXICO' 'YEMEN' 'ARMENIA' 'PALESTINIAN TERRITORIES' 'MOROCCO'\n",
      " 'IRAQ' 'CHILE' 'KENYA' 'LUXEMBOURG' 'AFGHANISTAN' 'SUDAN' 'CAMBODIA'\n",
      " 'MAURITIUS' 'TUNISIA' 'COLOMBIA' 'GEORGIA' 'BHUTAN' 'CYPRUS' 'UZBEKISTAN'\n",
      " 'AZERBAIJAN' 'MALTA' 'KYRGYZSTAN' 'MOLDOVA' 'ICELAND' 'SEYCHELLES'\n",
      " 'NIGERIA' 'ALGERIA' 'MACEDONIA' 'PERU' 'BOSNIA & HERZEGOVINA' 'ZIMBABWE'\n",
      " 'MONTENEGRO' 'TANZANIA' 'VENEZUELA' 'SYRIAN ARAB REPUBLIC' 'ETHIOPIA'\n",
      " 'COMOROS' 'MONGOLIA' 'ALBANIA' 'FIJI' 'LAO' 'ECUADOR' 'UGANDA'\n",
      " 'COSTA RICA' 'GHANA' 'LIECHTENSTEIN' 'URUGUAY' 'ZAMBIA'\n",
      " 'TRINIDAD & TOBAGO' 'JAMAICA' 'TAJIKISTAN' 'LIBYA' 'MADAGASCAR' 'SOMALIA'\n",
      " 'BRUNEI' 'PAPUA NEW GUINEA' 'BOLIVIA' 'TURKMENISTAN' 'ERITREA' 'NAMIBIA'\n",
      " 'MONACO' 'GUATEMALA' 'PANAMA' 'ANDORRA' 'CUBA' 'MOZAMBIQUE' 'DOMINICA'\n",
      " 'HONDURAS' 'BAHAMAS' 'BOTSWANA' 'TIMOR-LESTE' 'EL SALVADOR'\n",
      " 'SAINT KITTS & NEVIS' 'DOMINICAN REPUBLIC' 'SENEGAL' 'MALAWI' 'CONGO'\n",
      " 'KOSOVO' 'NICARAGUA' 'SAN MARINO' 'SURINAME' 'HONG KONG' 'CAMEROON'\n",
      " 'GUYANA' 'PARAGUAY' 'ANTIGUA & BARBUDA' \"COTE D'IVOIRE\" 'BURKINA FASO'\n",
      " 'SIERRA LEONE' 'BARBADOS' 'BURUNDI ' 'RWANDA' 'MALI' 'SOUTH SUDAN'\n",
      " 'VANUATU' 'BELIZE' 'SWAZILAND' 'GRENADA' 'SOLOMAN ISLANDS' 'LIBERIA'\n",
      " 'BENIN' 'GUINEA- BISSAU' 'HAITI' 'TOGO' 'TONGA' 'ANGOLA' 'DJIBOUTI'\n",
      " 'GAMBIA' 'LESOTHO' 'SAINT LUCIA' 'TUVALU' 'CAPE VERDE' 'GABON' 'NIGER'\n",
      " 'PALAU' 'CHAD' 'MARSHALL ISLANDS' 'SAMOA' 'KIRIBATI' 'MAURITANIA'\n",
      " 'MICRONESIA' 'SAINT VINCENT & THE GRENADINES' 'NORTH KOREA'\n",
      " 'CENTRAL AFRICAN REPUBLIC' 'NAURU' 'NETHERLAND ANTILLES'\n",
      " 'SAO TOME AND PRINCIPE' 'VATICAN CITY' 'ANTIGUA AND BARBUDA'\n",
      " 'BOSNIA AND HERZEGOVINA' 'BRUNEI DARUSSALAM' 'BURUNDI'\n",
      " 'CONGO THE DEM REPOF THE' 'CONGO, REPUBLIC OF.' 'COTE DIVOIRE'\n",
      " 'GAMBIA, THE' 'GUINEA' 'GUINEA-BISSAU' 'KOSOVAR' 'LAO PEOPLES DEM. REP.'\n",
      " 'SAINT KITTS AND NEVIS' 'SAINT VINCENT THE GRENADI' 'SERBIA.' 'SEYCHELLS'\n",
      " 'SLOVAKIA(SLOVAK REPUBLIC)' 'SOLOMON ISLANDS' 'SOUTH AFRICA-ZUID AFRIKA'\n",
      " 'TAIWAN PROVINCE OF CHINA' 'TRINIDAD AND TOBAGO' 'UNITED STATES'\n",
      " 'VIET NAM' 'YEMEN (YEMEN ARAB REP.)' 'ZAMBIA(NORTHERN RHODESIA)'\n",
      " 'CENTRAL AFRICAN' 'REPUBLIC' 'DOMINICAN' 'EQUATORIAL'\n",
      " 'LAO PEOPLES DEM.REP.' 'LIBYA(LIBYAN ARAB JAMAHIR' 'REPUBLIC OF ZIMBABWE'\n",
      " 'SOUTH AFRICA- ZUID AFRIKA' 'ZAMBIA (NORTHERNRHODESIA)' 'BOSNIA'\n",
      " 'BURKINA' 'EQUATORIAL GUINEA' 'EUROPEAN UNION' 'ISLE OF MAN'\n",
      " 'LIBYA(LIBYAN ARAB JAMAHIR)' 'MICRONESIA ' 'ZAMBIA (NORTHERN RHODESIA)'\n",
      " 'Afghanistan' 'Albania' 'Algeria' 'Andorra' 'Antarctica' 'Angola'\n",
      " 'Antigua & Barbuda' 'Argentina' 'Armenia' 'Australia' 'Austria'\n",
      " 'Azerbaijan' 'Bahamas' 'Bahrain' 'Bangladesh' 'Barbados' 'Belarus'\n",
      " 'Belgium' 'Belize' 'Benin' 'Bhutan' 'Bolivia' 'Bosnia & Herzegovina'\n",
      " 'Botswana' 'Brazil' 'Brunei Darussalam' 'Bulgaria' 'Burkina Faso'\n",
      " 'Cambodia' 'Cameroon' 'Canada' 'Cape Verde' 'Chad' 'Chile' 'China'\n",
      " 'Colombia' 'Comoros' 'Congo, Republic Of.' 'Costa Rica' 'Cote Divoire'\n",
      " 'Croatia' 'Cuba' 'Cyprus' 'Czech Republic' 'Denmark' 'Djibouti'\n",
      " 'Dominica' 'Dominican Republic' 'Ecuador' 'Egypt' 'El Salvador'\n",
      " 'Equatorial Guinea' 'Eritrea' 'Estonia' 'Ethiopia' 'Fiji' 'Finland'\n",
      " 'France' 'Gabon' 'Gambia' 'Georgia' 'Germany' 'Ghana' 'Greece' 'Guam'\n",
      " 'Grenada' 'Guatemala' 'Guinea-Bissau' 'Guyana' 'Honduras' 'Hong Kong'\n",
      " 'Haiti' 'Hungary' 'Iceland' 'India' 'Indonesia' 'Iran' 'Iraq' 'Ireland'\n",
      " 'Israel' 'Italy' 'Jamaica' 'Japan' 'Jordan' 'Kazakhstan' 'Kenya'\n",
      " 'Kosovar' 'Kuwait' 'Kyrgyzstan' 'Lao Peoples ' 'Latvia' 'Lebanon'\n",
      " 'Lesotho' 'Liberia' 'Libya' 'Liechtenstein' 'Lithuania' 'Luxembourg'\n",
      " 'Macedonia' 'Madagascar' 'Malawi' 'Malaysia' 'Maldives' 'Mali' 'Malta'\n",
      " 'Marshall Islands' 'Mauritania' 'Mauritius' 'Mexico' 'Micronesia '\n",
      " 'Moldova' 'Monaco' 'Mongolia' 'Montenegro' 'Morocco' 'Mozambique'\n",
      " 'Myanmar' 'Namibia' 'Nepal' 'Netherlands' 'New Zealand' 'Nicaragua'\n",
      " 'Nigeria' 'Niger' 'Norway' 'Oman' 'Pakistan' 'Palestinian Territories'\n",
      " 'Panama' 'Papua New Guinea' 'Paraguay' 'Peru' 'Philippines' 'Poland'\n",
      " 'Portugal' 'Qatar' 'Republic Of Zimbabwe' 'Romania' 'Russian Federation'\n",
      " 'Rwanda' 'Saint Kitts And Nevis' 'San Marino' 'Saint Lucia'\n",
      " 'Saudi Arabia' 'Senegal' 'Serbia' 'Seychelles' 'Sierra Leone' 'Singapore'\n",
      " 'Slovakia' 'Slovenia' 'Solomon Islands' 'Somalia'\n",
      " 'South Africa-Zuid Afrika' 'South Korea ' 'South Sudan' 'Spain' 'Sudan'\n",
      " 'Suriname' 'Swaziland' 'Sweden' 'Switzerland' 'Syrian Arab Republic'\n",
      " 'Taiwan' 'Tajikistan' 'Tanzania' 'Thailand' 'Togo' 'Tonga'\n",
      " 'Trinidad And Tobago' 'Tunisia' 'Turkey' 'Turkmenistan' 'Uganda'\n",
      " 'Ukraine' 'United Arab Emirates' 'United Kingdom' 'United States'\n",
      " 'Uruguay' 'Uzbekistan' 'Vanuatu' 'Venezuela' 'Vietnam' 'Yemen ' 'Zambia'\n",
      " 'Zimbabwe' 'Antigua and Barbuda' 'Aruba' 'Bosnia and Herzegovina'\n",
      " 'Burundi' 'Central African Republic' 'Congo, The Democratic Republic'\n",
      " 'Gambia, The' 'Guinea' 'Kiribati' \"Lao, People's Democratic Republic\"\n",
      " 'Libya(Libyan Arab Jamahir)' 'Nauru' 'Palau' 'Saint Kitts and Nevis'\n",
      " 'Saint Vincent The Grenadi' 'Samoa' 'Slovakia(Slovak Republic)'\n",
      " 'Taiwan Province of China' 'Timor-Leste' 'Trinidad and Tobago' 'Tuvalu'\n",
      " 'Viet Nam' 'Yemen (Yemen Arab Republic)' 'Zambia(Northern Rhodesia)'\n",
      " 'Republic of China\\n(China+Taiwan)' 'Congo' \"Lao, People's Democratic \"\n",
      " 'Netherlands Antilles' 'South Africa']\n"
     ]
    }
   ],
   "source": [
    "print(data['Country'].unique())"
   ]
  },
  {
   "cell_type": "code",
   "execution_count": 15,
   "metadata": {},
   "outputs": [
    {
     "name": "stdout",
     "output_type": "stream",
     "text": [
      "452\n"
     ]
    }
   ],
   "source": [
    "print(data['Country'].nunique())"
   ]
  },
  {
   "cell_type": "code",
   "execution_count": 16,
   "metadata": {},
   "outputs": [
    {
     "name": "stdout",
     "output_type": "stream",
     "text": [
      "Unique country names:\n",
      "['INDIA', 'CHINA', 'UNITED KINGDOM', 'GERMANY', 'AUSTRALIA', 'FRANCE', 'MALDIVES', 'UNITED STATES OF AMERICA', 'RUSSIAN FEDERATION', 'NETHERLANDS', 'CANADA', 'JAPAN', 'ITALY', 'UKRAINE', 'SAUDI ARABIA', 'SWITZERLAND', 'SPAIN', 'SWEDEN', 'MALAYSIA', 'POLAND', 'SINGAPORE', 'AUSTRIA', 'PHILIPPINES', 'DENMARK', 'PAKISTAN', 'CZECH REPUBLIC', 'BELGIUM', 'NORWAY', 'SOUTH KOREA', 'ISRAEL', 'NEW ZEALAND', 'IRELAND', 'BANGLADESH', 'THAILAND', 'FINLAND', 'TAIWAN', 'GREECE', 'SOUTH AFRICA', 'OMAN', 'PORTUGAL', 'ROMANIA', 'UNITED ARAB EMIRATES', 'IRAN', 'LEBANON', 'INDONESIA', 'NEPAL', 'SLOVAK REPUBLIC', 'BELARUS', 'HUNGARY', 'TURKEY', 'SLOVENIA', 'EGYPT', 'KUWAIT', 'LITHUANIA', 'MYANMAR', 'VIETNAM', 'JORDAN', 'BAHRAIN', 'BRAZIL', 'ESTONIA', 'KAZAKHSTAN', 'BULGARIA', 'CROATIA', 'LATVIA', 'ARGENTINA', 'SERBIA', 'QATAR', 'MEXICO', 'YEMEN', 'ARMENIA', 'PALESTINIAN TERRITORIES', 'MOROCCO', 'IRAQ', 'CHILE', 'KENYA', 'LUXEMBOURG', 'AFGHANISTAN', 'SUDAN', 'CAMBODIA', 'MAURITIUS', 'TUNISIA', 'COLOMBIA', 'GEORGIA', 'BHUTAN', 'CYPRUS', 'UZBEKISTAN', 'AZERBAIJAN', 'MALTA', 'KYRGYZSTAN', 'MOLDOVA', 'ICELAND', 'SEYCHELLES', 'NIGERIA', 'ALGERIA', 'MACEDONIA', 'PERU', 'BOSNIA & HERZEGOVINA', 'ZIMBABWE', 'MONTENEGRO', 'TANZANIA', 'VENEZUELA', 'SYRIAN ARAB REPUBLIC', 'ETHIOPIA', 'COMOROS', 'MONGOLIA', 'ALBANIA', 'FIJI', 'LAO', 'ECUADOR', 'UGANDA', 'COSTA RICA', 'GHANA', 'LIECHTENSTEIN', 'URUGUAY', 'ZAMBIA', 'TRINIDAD & TOBAGO', 'JAMAICA', 'TAJIKISTAN', 'LIBYA', 'MADAGASCAR', 'SOMALIA', 'BRUNEI', 'PAPUA NEW GUINEA', 'BOLIVIA', 'TURKMENISTAN', 'ERITREA', 'NAMIBIA', 'MONACO', 'GUATEMALA', 'PANAMA', 'ANDORRA', 'CUBA', 'MOZAMBIQUE', 'DOMINICA', 'HONDURAS', 'BAHAMAS', 'BOTSWANA', 'TIMOR-LESTE', 'EL SALVADOR', 'SAINT KITTS & NEVIS', 'DOMINICAN REPUBLIC', 'SENEGAL', 'MALAWI', 'CONGO', 'KOSOVO', 'NICARAGUA', 'SAN MARINO', 'SURINAME', 'HONG KONG', 'CAMEROON', 'GUYANA', 'PARAGUAY', 'ANTIGUA & BARBUDA', \"COTE D'IVOIRE\", 'BURKINA FASO', 'SIERRA LEONE', 'BARBADOS', 'BURUNDI ', 'RWANDA', 'MALI', 'SOUTH SUDAN', 'VANUATU', 'BELIZE', 'SWAZILAND', 'GRENADA', 'SOLOMAN ISLANDS', 'LIBERIA', 'BENIN', 'GUINEA- BISSAU', 'HAITI', 'TOGO', 'TONGA', 'ANGOLA', 'DJIBOUTI', 'GAMBIA', 'LESOTHO', 'SAINT LUCIA', 'TUVALU', 'CAPE VERDE', 'GABON', 'NIGER', 'PALAU', 'CHAD', 'MARSHALL ISLANDS', 'SAMOA', 'KIRIBATI', 'MAURITANIA', 'MICRONESIA', 'SAINT VINCENT & THE GRENADINES', 'NORTH KOREA', 'CENTRAL AFRICAN REPUBLIC', 'NAURU', 'NETHERLAND ANTILLES', 'SAO TOME AND PRINCIPE', 'VATICAN CITY', 'ANTIGUA AND BARBUDA', 'BOSNIA AND HERZEGOVINA', 'BRUNEI DARUSSALAM', 'BURUNDI', 'CONGO THE DEM REPOF THE', 'CONGO, REPUBLIC OF.', 'COTE DIVOIRE', 'GAMBIA, THE', 'GUINEA', 'GUINEA-BISSAU', 'KOSOVAR', 'LAO PEOPLES DEM. REP.', 'SAINT KITTS AND NEVIS', 'SAINT VINCENT THE GRENADI', 'SERBIA.', 'SEYCHELLS', 'SLOVAKIA(SLOVAK REPUBLIC)', 'SOLOMON ISLANDS', 'SOUTH AFRICA-ZUID AFRIKA', 'TAIWAN PROVINCE OF CHINA', 'TRINIDAD AND TOBAGO', 'UNITED STATES', 'VIET NAM', 'YEMEN (YEMEN ARAB REP.)', 'ZAMBIA(NORTHERN RHODESIA)', 'CENTRAL AFRICAN', 'REPUBLIC', 'DOMINICAN', 'EQUATORIAL', 'LAO PEOPLES DEM.REP.', 'LIBYA(LIBYAN ARAB JAMAHIR', 'REPUBLIC OF ZIMBABWE', 'SOUTH AFRICA- ZUID AFRIKA', 'ZAMBIA (NORTHERNRHODESIA)', 'BOSNIA', 'BURKINA', 'EQUATORIAL GUINEA', 'EUROPEAN UNION', 'ISLE OF MAN', 'LIBYA(LIBYAN ARAB JAMAHIR)', 'MICRONESIA ', 'ZAMBIA (NORTHERN RHODESIA)', 'Afghanistan', 'Albania', 'Algeria', 'Andorra', 'Antarctica', 'Angola', 'Antigua & Barbuda', 'Argentina', 'Armenia', 'Australia', 'Austria', 'Azerbaijan', 'Bahamas', 'Bahrain', 'Bangladesh', 'Barbados', 'Belarus', 'Belgium', 'Belize', 'Benin', 'Bhutan', 'Bolivia', 'Bosnia & Herzegovina', 'Botswana', 'Brazil', 'Brunei Darussalam', 'Bulgaria', 'Burkina Faso', 'Cambodia', 'Cameroon', 'Canada', 'Cape Verde', 'Chad', 'Chile', 'China', 'Colombia', 'Comoros', 'Congo, Republic Of.', 'Costa Rica', 'Cote Divoire', 'Croatia', 'Cuba', 'Cyprus', 'Czech Republic', 'Denmark', 'Djibouti', 'Dominica', 'Dominican Republic', 'Ecuador', 'Egypt', 'El Salvador', 'Equatorial Guinea', 'Eritrea', 'Estonia', 'Ethiopia', 'Fiji', 'Finland', 'France', 'Gabon', 'Gambia', 'Georgia', 'Germany', 'Ghana', 'Greece', 'Guam', 'Grenada', 'Guatemala', 'Guinea-Bissau', 'Guyana', 'Honduras', 'Hong Kong', 'Haiti', 'Hungary', 'Iceland', 'India', 'Indonesia', 'Iran', 'Iraq', 'Ireland', 'Israel', 'Italy', 'Jamaica', 'Japan', 'Jordan', 'Kazakhstan', 'Kenya', 'Kosovar', 'Kuwait', 'Kyrgyzstan', 'Lao Peoples ', 'Latvia', 'Lebanon', 'Lesotho', 'Liberia', 'Libya', 'Liechtenstein', 'Lithuania', 'Luxembourg', 'Macedonia', 'Madagascar', 'Malawi', 'Malaysia', 'Maldives', 'Mali', 'Malta', 'Marshall Islands', 'Mauritania', 'Mauritius', 'Mexico', 'Micronesia ', 'Moldova', 'Monaco', 'Mongolia', 'Montenegro', 'Morocco', 'Mozambique', 'Myanmar', 'Namibia', 'Nepal', 'Netherlands', 'New Zealand', 'Nicaragua', 'Nigeria', 'Niger', 'Norway', 'Oman', 'Pakistan', 'Palestinian Territories', 'Panama', 'Papua New Guinea', 'Paraguay', 'Peru', 'Philippines', 'Poland', 'Portugal', 'Qatar', 'Republic Of Zimbabwe', 'Romania', 'Russian Federation', 'Rwanda', 'Saint Kitts And Nevis', 'San Marino', 'Saint Lucia', 'Saudi Arabia', 'Senegal', 'Serbia', 'Seychelles', 'Sierra Leone', 'Singapore', 'Slovakia', 'Slovenia', 'Solomon Islands', 'Somalia', 'South Africa-Zuid Afrika', 'South Korea ', 'South Sudan', 'Spain', 'Sudan', 'Suriname', 'Swaziland', 'Sweden', 'Switzerland', 'Syrian Arab Republic', 'Taiwan', 'Tajikistan', 'Tanzania', 'Thailand', 'Togo', 'Tonga', 'Trinidad And Tobago', 'Tunisia', 'Turkey', 'Turkmenistan', 'Uganda', 'Ukraine', 'United Arab Emirates', 'United Kingdom', 'United States', 'Uruguay', 'Uzbekistan', 'Vanuatu', 'Venezuela', 'Vietnam', 'Yemen ', 'Zambia', 'Zimbabwe', 'Antigua and Barbuda', 'Aruba', 'Bosnia and Herzegovina', 'Burundi', 'Central African Republic', 'Congo, The Democratic Republic', 'Gambia, The', 'Guinea', 'Kiribati', \"Lao, People's Democratic Republic\", 'Libya(Libyan Arab Jamahir)', 'Nauru', 'Palau', 'Saint Kitts and Nevis', 'Saint Vincent The Grenadi', 'Samoa', 'Slovakia(Slovak Republic)', 'Taiwan Province of China', 'Timor-Leste', 'Trinidad and Tobago', 'Tuvalu', 'Viet Nam', 'Yemen (Yemen Arab Republic)', 'Zambia(Northern Rhodesia)', 'Republic of China\\n(China+Taiwan)', 'Congo', \"Lao, People's Democratic \", 'Netherlands Antilles', 'South Africa']\n"
     ]
    }
   ],
   "source": [
    "# Print all unique country names\n",
    "unique_countries = data['Country'].unique()\n",
    "print(\"Unique country names:\")\n",
    "print(list(unique_countries))"
   ]
  },
  {
   "cell_type": "code",
   "execution_count": 17,
   "metadata": {},
   "outputs": [],
   "source": [
    "# Update mapping to lowercase\n",
    "country_mapping = {\n",
    "    \"INDIA\": \"India\",\n",
    "    \"CHINA\": \"China\",\n",
    "    \"UNITED KINGDOM\": \"United Kingdom\",\n",
    "    \"GERMANY\": \"Germany\",\n",
    "    \"AUSTRALIA\": \"Australia\",\n",
    "    \"FRANCE\": \"France\",\n",
    "    \"MALDIVES\": \"Maldives\",\n",
    "    \"UNITED STATES OF AMERICA\": \"United States\",\n",
    "    \"RUSSIAN FEDERATION\": \"Russia\",\n",
    "    \"NETHERLANDS\": \"Netherlands\",\n",
    "    \"CANADA\": \"Canada\",\n",
    "    \"JAPAN\": \"Japan\",\n",
    "    \"ITALY\": \"Italy\",\n",
    "    \"UKRAINE\": \"Ukraine\",\n",
    "    \"SAUDI ARABIA\": \"Saudi Arabia\",\n",
    "    \"SWITZERLAND\": \"Switzerland\",\n",
    "    \"SPAIN\": \"Spain\",\n",
    "    \"SWEDEN\": \"Sweden\",\n",
    "    \"MALAYSIA\": \"Malaysia\",\n",
    "    \"POLAND\": \"Poland\",\n",
    "    \"SINGAPORE\": \"Singapore\",\n",
    "    \"AUSTRIA\": \"Austria\",\n",
    "    \"PHILIPPINES\": \"Philippines\",\n",
    "    \"DENMARK\": \"Denmark\",\n",
    "    \"PAKISTAN\": \"Pakistan\",\n",
    "    \"CZECH REPUBLIC\": \"Czechia\",\n",
    "    \"BELGIUM\": \"Belgium\",\n",
    "    \"NORWAY\": \"Norway\",\n",
    "    \"SOUTH KOREA\": \"South Korea\",\n",
    "    \"ISRAEL\": \"Israel\",\n",
    "    \"NEW ZEALAND\": \"New Zealand\",\n",
    "    \"IRELAND\": \"Ireland\",\n",
    "    \"BANGLADESH\": \"Bangladesh\",\n",
    "    \"THAILAND\": \"Thailand\",\n",
    "    \"FINLAND\": \"Finland\",\n",
    "    \"TAIWAN\": \"Taiwan\",\n",
    "    \"GREECE\": \"Greece\",\n",
    "    \"SOUTH AFRICA\": \"South Africa\",\n",
    "    \"OMAN\": \"Oman\",\n",
    "    \"PORTUGAL\": \"Portugal\",\n",
    "    \"ROMANIA\": \"Romania\",\n",
    "    \"UNITED ARAB EMIRATES\": \"United Arab Emirates\",\n",
    "    \"IRAN\": \"Iran\",\n",
    "    \"LEBANON\": \"Lebanon\",\n",
    "    \"INDONESIA\": \"Indonesia\",\n",
    "    \"NEPAL\": \"Nepal\",\n",
    "    \"SLOVAK REPUBLIC\": \"Slovakia\",\n",
    "    \"BELARUS\": \"Belarus\",\n",
    "    \"HUNGARY\": \"Hungary\",\n",
    "    \"TURKEY\": \"Turkey\",\n",
    "    \"SLOVENIA\": \"Slovenia\",\n",
    "    \"EGYPT\": \"Egypt\",\n",
    "    \"KUWAIT\": \"Kuwait\",\n",
    "    \"LITHUANIA\": \"Lithuania\",\n",
    "    \"INDIA\": \"India\",\n",
    "    \"CHINA\": \"China\",\n",
    "    \"UNITED KINGDOM\": \"United Kingdom\",\n",
    "    \"GERMANY\": \"Germany\",\n",
    "    \"AUSTRALIA\": \"Australia\",\n",
    "    \"FRANCE\": \"France\",\n",
    "    \"MALDIVES\": \"Maldives\",\n",
    "    \"UNITED STATES OF AMERICA\": \"United States\",\n",
    "    \"RUSSIAN FEDERATION\": \"Russia\",\n",
    "    \"NETHERLANDS\": \"Netherlands\",\n",
    "    \"CANADA\": \"Canada\",\n",
    "    \"JAPAN\": \"Japan\",\n",
    "    \"ITALY\": \"Italy\",\n",
    "    \"UKRAINE\": \"Ukraine\",\n",
    "    \"SAUDI ARABIA\": \"Saudi Arabia\",\n",
    "    \"SWITZERLAND\": \"Switzerland\",\n",
    "    \"SPAIN\": \"Spain\",\n",
    "    \"SWEDEN\": \"Sweden\",\n",
    "    \"MALAYSIA\": \"Malaysia\",\n",
    "    \"POLAND\": \"Poland\",\n",
    "    \"SINGAPORE\": \"Singapore\",\n",
    "    \"AUSTRIA\": \"Austria\",\n",
    "    \"PHILIPPINES\": \"Philippines\",\n",
    "    \"DENMARK\": \"Denmark\",\n",
    "    \"PAKISTAN\": \"Pakistan\",\n",
    "    \"CZECH REPUBLIC\": \"Czechia\",\n",
    "    \"BELGIUM\": \"Belgium\",\n",
    "    \"NORWAY\": \"Norway\",\n",
    "    \"SOUTH KOREA\": \"South Korea\",\n",
    "    \"ISRAEL\": \"Israel\",\n",
    "    \"NEW ZEALAND\": \"New Zealand\",\n",
    "    \"IRELAND\": \"Ireland\",\n",
    "    \"BANGLADESH\": \"Bangladesh\",\n",
    "    \"THAILAND\": \"Thailand\",\n",
    "    \"FINLAND\": \"Finland\",\n",
    "    \"TAIWAN\": \"Taiwan\",\n",
    "    \"GREECE\": \"Greece\",\n",
    "    \"SOUTH AFRICA\": \"South Africa\",\n",
    "    \"OMAN\": \"Oman\",\n",
    "    \"PORTUGAL\": \"Portugal\",\n",
    "    \"ROMANIA\": \"Romania\",\n",
    "    \"UNITED ARAB EMIRATES\": \"United Arab Emirates\",\n",
    "    \"IRAN\": \"Iran\",\n",
    "    \"LEBANON\": \"Lebanon\",\n",
    "    \"INDONESIA\": \"Indonesia\",\n",
    "    \"NEPAL\": \"Nepal\",\n",
    "    \"SLOVAK REPUBLIC\": \"Slovakia\",\n",
    "    \"BELARUS\": \"Belarus\",\n",
    "    \"HUNGARY\": \"Hungary\",\n",
    "    \"TURKEY\": \"Turkey\",\n",
    "    \"SLOVENIA\": \"Slovenia\",\n",
    "    \"EGYPT\": \"Egypt\",\n",
    "    \"KUWAIT\": \"Kuwait\",\n",
    "    \"LITHUANIA\": \"Lithuania\",\n",
    "    \"MYANMAR\": \"Myanmar\",\n",
    "    \"VIETNAM\": \"Vietnam\",\n",
    "    \"JORDAN\": \"Jordan\",\n",
    "    \"BAHRAIN\": \"Bahrain\",\n",
    "    \"BRAZIL\": \"Brazil\",\n",
    "    \"ESTONIA\": \"Estonia\",\n",
    "    \"KAZAKHSTAN\": \"Kazakhstan\",\n",
    "    \"BULGARIA\": \"Bulgaria\",\n",
    "    \"CROATIA\": \"Croatia\",\n",
    "    \"LATVIA\": \"Latvia\",\n",
    "    \"ARGENTINA\": \"Argentina\",\n",
    "    \"SERBIA\": \"Serbia\",\n",
    "    \"QATAR\": \"Qatar\",\n",
    "    \"MEXICO\": \"Mexico\",\n",
    "    \"YEMEN\": \"Yemen\",\n",
    "    \"ARMENIA\": \"Armenia\",\n",
    "    \"PALESTINIAN TERRITORIES\": \"Palestinian Territories\",\n",
    "    \"MOROCCO\": \"Morocco\",\n",
    "    \"IRAQ\": \"Iraq\",\n",
    "    \"CHILE\": \"Chile\",\n",
    "    \"KENYA\": \"Kenya\",\n",
    "    \"LUXEMBOURG\": \"Luxembourg\",\n",
    "    \"AFGHANISTAN\": \"Afghanistan\",\n",
    "    \"SUDAN\": \"Sudan\",\n",
    "    \"CAMBODIA\": \"Cambodia\",\n",
    "    \"MAURITIUS\": \"Mauritius\",\n",
    "    \"TUNISIA\": \"Tunisia\",\n",
    "    \"COLOMBIA\": \"Colombia\",\n",
    "    \"GEORGIA\": \"Georgia\",\n",
    "    \"BHUTAN\": \"Bhutan\",\n",
    "    \"CYPRUS\": \"Cyprus\",\n",
    "    \"UZBEKISTAN\": \"Uzbekistan\",\n",
    "    \"AZERBAIJAN\": \"Azerbaijan\",\n",
    "    \"MALTA\": \"Malta\",\n",
    "    \"KYRGYZSTAN\": \"Kyrgyzstan\",\n",
    "    \"MOLDOVA\": \"Moldova\",\n",
    "    \"ICELAND\": \"Iceland\",\n",
    "    \"SEYCHELLES\": \"Seychelles\",\n",
    "    \"NIGERIA\": \"Nigeria\",\n",
    "    \"ALGERIA\": \"Algeria\",\n",
    "    \"MACEDONIA\": \"North Macedonia\",\n",
    "    \"PERU\": \"Peru\",\n",
    "    \"BOSNIA & HERZEGOVINA\": \"Bosnia and Herzegovina\",\n",
    "    \"ZIMBABWE\": \"Zimbabwe\",\n",
    "    \"MONTENEGRO\": \"Montenegro\",\n",
    "    \"TANZANIA\": \"Tanzania\",\n",
    "    \"VENEZUELA\": \"Venezuela\",\n",
    "    \"SYRIAN ARAB REPUBLIC\": \"Syria\",\n",
    "    \"ETHIOPIA\": \"Ethiopia\",\n",
    "    \"COMOROS\": \"Comoros\",\n",
    "    \"MONGOLIA\": \"Mongolia\",\n",
    "    \"ALBANIA\": \"Albania\",\n",
    "    \"FIJI\": \"Fiji\",\n",
    "    \"LAO\": \"Laos\",\n",
    "    \"ECUADOR\": \"Ecuador\",\n",
    "    \"UGANDA\": \"Uganda\",\n",
    "    \"COSTA RICA\": \"Costa Rica\",\n",
    "    \"GHANA\": \"Ghana\",\n",
    "    \"LIECHTENSTEIN\": \"Liechtenstein\",\n",
    "    \"URUGUAY\": \"Uruguay\",\n",
    "    \"ZAMBIA\": \"Zambia\",\n",
    "    \"TRINIDAD & TOBAGO\": \"Trinidad and Tobago\",\n",
    "    \"JAMAICA\": \"Jamaica\",\n",
    "    \"TAJIKISTAN\": \"Tajikistan\",\n",
    "    \"LIBYA\": \"Libya\",\n",
    "    \"MADAGASCAR\": \"Madagascar\",\n",
    "    \"SOMALIA\": \"Somalia\",\n",
    "    \"BRUNEI\": \"Brunei\",\n",
    "    \"PAPUA NEW GUINEA\": \"Papua New Guinea\",\n",
    "    \"BOLIVIA\": \"Bolivia\",\n",
    "    \"TURKMENISTAN\": \"Turkmenistan\",\n",
    "    \"ERITREA\": \"Eritrea\",\n",
    "    \"NAMIBIA\": \"Namibia\",\n",
    "    \"MONACO\": \"Monaco\",\n",
    "    \"GUATEMALA\": \"Guatemala\",\n",
    "    \"PANAMA\": \"Panama\",\n",
    "    \"ANDORRA\": \"Andorra\",\n",
    "    \"CUBA\": \"Cuba\",\n",
    "    \"MOZAMBIQUE\": \"Mozambique\",\n",
    "    \"DOMINICA\": \"Dominica\",\n",
    "    \"HONDURAS\": \"Honduras\",\n",
    "    \"BAHAMAS\": \"Bahamas\",\n",
    "    \"BOTSWANA\": \"Botswana\",\n",
    "    \"TIMOR-LESTE\": \"Timor-Leste\",\n",
    "    \"EL SALVADOR\": \"El Salvador\",\n",
    "    \"SAINT KITTS & NEVIS\": \"Saint Kitts and Nevis\",\n",
    "    \"DOMINICAN REPUBLIC\": \"Dominican Republic\",\n",
    "    \"SENEGAL\": \"Senegal\",\n",
    "    \"MALAWI\": \"Malawi\",\n",
    "    \"CONGO\": \"Congo\",\n",
    "    \"KOSOVO\": \"Kosovo\",\n",
    "    \"NICARAGUA\": \"Nicaragua\",\n",
    "    \"SAN MARINO\": \"San Marino\",\n",
    "    \"SURINAME\": \"Suriname\",\n",
    "    \"HONG KONG\": \"Hong Kong\",\n",
    "    \"CAMEROON\": \"Cameroon\",\n",
    "    \"GUYANA\": \"Guyana\",\n",
    "    \"PARAGUAY\": \"Paraguay\",\n",
    "    \"ANTIGUA & BARBUDA\": \"Antigua and Barbuda\",\n",
    "    \"COTE D'IVOIRE\": \"Ivory Coast\",\n",
    "    \"BURKINA FASO\": \"Burkina Faso\",\n",
    "    \"SIERRA LEONE\": \"Sierra Leone\",\n",
    "    \"BARBADOS\": \"Barbados\",\n",
    "    \"BURUNDI\": \"Burundi\",\n",
    "    \"RWANDA\": \"Rwanda\",\n",
    "    \"MALI\": \"Mali\",\n",
    "    \"SOUTH SUDAN\": \"South Sudan\",\n",
    "    \"VANUATU\": \"Vanuatu\",\n",
    "    \"BELIZE\": \"Belize\",\n",
    "    \"SWAZILAND\": \"Eswatini\",\n",
    "    \"GRENADA\": \"Grenada\",\n",
    "    \"SOLOMON ISLANDS\": \"Solomon Islands\",\n",
    "    \"LIBERIA\": \"Liberia\",\n",
    "    \"BENIN\": \"Benin\",\n",
    "    \"GUINEA-BISSAU\": \"Guinea-Bissau\",\n",
    "    \"HAITI\": \"Haiti\",\n",
    "    \"TOGO\": \"Togo\",\n",
    "    \"TONGA\": \"Tonga\",\n",
    "    \"ANGOLA\": \"Angola\",\n",
    "    \"DJIBOUTI\": \"Djibouti\",\n",
    "    \"GAMBIA\": \"Gambia\",\n",
    "    \"LESOTHO\": \"Lesotho\",\n",
    "    \"SAINT LUCIA\": \"Saint Lucia\",\n",
    "    \"TUVALU\": \"Tuvalu\",\n",
    "    \"CAPE VERDE\": \"Cape Verde\",\n",
    "    \"GABON\": \"Gabon\",\n",
    "    \"NIGER\": \"Niger\",\n",
    "    \"PALAU\": \"Palau\",\n",
    "    \"CHAD\": \"Chad\",\n",
    "    \"MARSHALL ISLANDS\": \"Marshall Islands\",\n",
    "    \"SAMOA\": \"Samoa\",\n",
    "    \"KIRIBATI\": \"Kiribati\",\n",
    "    \"MAURITANIA\": \"Mauritania\",\n",
    "    \"MICRONESIA\": \"Micronesia\",\n",
    "    \"SAINT VINCENT & THE GRENADINES\": \"Saint Vincent and the Grenadines\",\n",
    "    \"NORTH KOREA\": \"North Korea\",\n",
    "    \"CENTRAL AFRICAN REPUBLIC\": \"Central African Republic\",\n",
    "    \"NAURU\": \"Nauru\",\n",
    "    \"NETHERLAND ANTILLES\": \"Netherlands Antilles\",\n",
    "    \"SAO TOME AND PRINCIPE\": \"São Tomé and Príncipe\",\n",
    "    \"VATICAN CITY\": \"Vatican City\",\n",
    "    \"ANTIGUA AND BARBUDA\": \"Antigua and Barbuda\",\n",
    "    \"BOSNIA AND HERZEGOVINA\": \"Bosnia and Herzegovina\",\n",
    "    \"BRUNEI DARUSSALAM\": \"Brunei Darussalam\",\n",
    "    \"BURUNDI\": \"Burundi\",\n",
    "    \"CONGO THE DEM REP OF THE\": \"Democratic Republic of the Congo\",\n",
    "    \"CONGO, REPUBLIC OF.\": \"Republic of the Congo\",\n",
    "    \"COTE DIVOIRE\": \"Ivory Coast\",\n",
    "    \"GAMBIA, THE\": \"The Gambia\",\n",
    "    \"GUINEA\": \"Guinea\",\n",
    "    \"GUINEA-BISSAU\": \"Guinea-Bissau\",\n",
    "    \"KOSOVAR\": \"Kosovo\",\n",
    "    \"LAO PEOPLES DEM. REP.\": \"Laos\",\n",
    "    \"SAINT KITTS AND NEVIS\": \"Saint Kitts and Nevis\",\n",
    "    \"SAINT VINCENT THE GRENADI\": \"Saint Vincent and the Grenadines\",\n",
    "    \"SERBIA.\": \"Serbia\",\n",
    "    \"SEYCHELLES\": \"Seychelles\",\n",
    "    \"SLOVAKIA(SLOVAK REPUBLIC)\": \"Slovakia\",\n",
    "    \"SOLOMON ISLANDS\": \"Solomon Islands\",\n",
    "    \"SOUTH AFRICA-ZUID AFRIKA\": \"South Africa\",\n",
    "    \"TAIWAN PROVINCE OF CHINA\": \"Taiwan\",\n",
    "    \"TRINIDAD AND TOBAGO\": \"Trinidad and Tobago\",\n",
    "    \"UNITED STATES\": \"United States\",\n",
    "    \"VIET NAM\": \"Vietnam\",\n",
    "    \"YEMEN (YEMEN ARAB REP.)\": \"Yemen\",\n",
    "    \"ZAMBIA(NORTHERN RHODESIA)\": \"Zambia\",\n",
    "    \"CENTRAL AFRICAN\": \"Central African Republic\",\n",
    "    \"REPUBLIC\": \"Republic\",\n",
    "    \"DOMINICAN\": \"Dominican Republic\",\n",
    "    \"EQUATORIAL\": \"Equatorial Guinea\",\n",
    "    \"LAO PEOPLES DEM.REP.\": \"Laos\",\n",
    "    \"LIBYA(LIBYAN ARAB JAMAHIR\": \"Libya\",\n",
    "    \"REPUBLIC OF ZIMBABWE\": \"Zimbabwe\",\n",
    "    \"SOUTH AFRICA- ZUID AFRIKA\": \"South Africa\",\n",
    "    \"ZAMBIA (NORTHERN RHODESIA)\": \"Zambia\",\n",
    "    \"BOSNIA\": \"Bosnia\",\n",
    "    \"BURKINA\": \"Burkina Faso\",\n",
    "    \"EQUATORIAL GUINEA\": \"Equatorial Guinea\",\n",
    "    \"EUROPEAN UNION\": \"European Union\",\n",
    "    \"GABON\": \"Gabon\",\n",
    "    \"GAMBIAS\": \"Gambia\"\n",
    "}\n"
   ]
  },
  {
   "cell_type": "code",
   "execution_count": 18,
   "metadata": {},
   "outputs": [],
   "source": [
    "# Standardize country names\n",
    "data['Country'] = data['Country'].replace(country_mapping)"
   ]
  },
  {
   "cell_type": "code",
   "execution_count": 19,
   "metadata": {},
   "outputs": [
    {
     "name": "stdout",
     "output_type": "stream",
     "text": [
      "245\n"
     ]
    }
   ],
   "source": [
    "print(data['Country'].nunique())"
   ]
  },
  {
   "cell_type": "code",
   "execution_count": 20,
   "metadata": {},
   "outputs": [
    {
     "name": "stdout",
     "output_type": "stream",
     "text": [
      "['India' 'China' 'United Kingdom' 'Germany' 'Australia' 'France'\n",
      " 'Maldives' 'United States' 'Russia' 'Netherlands' 'Canada' 'Japan'\n",
      " 'Italy' 'Ukraine' 'Saudi Arabia' 'Switzerland' 'Spain' 'Sweden'\n",
      " 'Malaysia' 'Poland' 'Singapore' 'Austria' 'Philippines' 'Denmark'\n",
      " 'Pakistan' 'Czechia' 'Belgium' 'Norway' 'South Korea' 'Israel'\n",
      " 'New Zealand' 'Ireland' 'Bangladesh' 'Thailand' 'Finland' 'Taiwan'\n",
      " 'Greece' 'South Africa' 'Oman' 'Portugal' 'Romania'\n",
      " 'United Arab Emirates' 'Iran' 'Lebanon' 'Indonesia' 'Nepal' 'Slovakia'\n",
      " 'Belarus' 'Hungary' 'Turkey' 'Slovenia' 'Egypt' 'Kuwait' 'Lithuania'\n",
      " 'Myanmar' 'Vietnam' 'Jordan' 'Bahrain' 'Brazil' 'Estonia' 'Kazakhstan'\n",
      " 'Bulgaria' 'Croatia' 'Latvia' 'Argentina' 'Serbia' 'Qatar' 'Mexico'\n",
      " 'Yemen' 'Armenia' 'Palestinian Territories' 'Morocco' 'Iraq' 'Chile'\n",
      " 'Kenya' 'Luxembourg' 'Afghanistan' 'Sudan' 'Cambodia' 'Mauritius'\n",
      " 'Tunisia' 'Colombia' 'Georgia' 'Bhutan' 'Cyprus' 'Uzbekistan'\n",
      " 'Azerbaijan' 'Malta' 'Kyrgyzstan' 'Moldova' 'Iceland' 'Seychelles'\n",
      " 'Nigeria' 'Algeria' 'North Macedonia' 'Peru' 'Bosnia and Herzegovina'\n",
      " 'Zimbabwe' 'Montenegro' 'Tanzania' 'Venezuela' 'Syria' 'Ethiopia'\n",
      " 'Comoros' 'Mongolia' 'Albania' 'Fiji' 'Laos' 'Ecuador' 'Uganda'\n",
      " 'Costa Rica' 'Ghana' 'Liechtenstein' 'Uruguay' 'Zambia'\n",
      " 'Trinidad and Tobago' 'Jamaica' 'Tajikistan' 'Libya' 'Madagascar'\n",
      " 'Somalia' 'Brunei' 'Papua New Guinea' 'Bolivia' 'Turkmenistan' 'Eritrea'\n",
      " 'Namibia' 'Monaco' 'Guatemala' 'Panama' 'Andorra' 'Cuba' 'Mozambique'\n",
      " 'Dominica' 'Honduras' 'Bahamas' 'Botswana' 'Timor-Leste' 'El Salvador'\n",
      " 'Saint Kitts and Nevis' 'Dominican Republic' 'Senegal' 'Malawi' 'Congo'\n",
      " 'Kosovo' 'Nicaragua' 'San Marino' 'Suriname' 'Hong Kong' 'Cameroon'\n",
      " 'Guyana' 'Paraguay' 'Antigua and Barbuda' 'Ivory Coast' 'Burkina Faso'\n",
      " 'Sierra Leone' 'Barbados' 'BURUNDI ' 'Rwanda' 'Mali' 'South Sudan'\n",
      " 'Vanuatu' 'Belize' 'Eswatini' 'Grenada' 'SOLOMAN ISLANDS' 'Liberia'\n",
      " 'Benin' 'GUINEA- BISSAU' 'Haiti' 'Togo' 'Tonga' 'Angola' 'Djibouti'\n",
      " 'Gambia' 'Lesotho' 'Saint Lucia' 'Tuvalu' 'Cape Verde' 'Gabon' 'Niger'\n",
      " 'Palau' 'Chad' 'Marshall Islands' 'Samoa' 'Kiribati' 'Mauritania'\n",
      " 'Micronesia' 'Saint Vincent and the Grenadines' 'North Korea'\n",
      " 'Central African Republic' 'Nauru' 'Netherlands Antilles'\n",
      " 'São Tomé and Príncipe' 'Vatican City' 'Brunei Darussalam' 'Burundi'\n",
      " 'CONGO THE DEM REPOF THE' 'Republic of the Congo' 'The Gambia' 'Guinea'\n",
      " 'Guinea-Bissau' 'SEYCHELLS' 'Solomon Islands' 'Republic'\n",
      " 'Equatorial Guinea' 'ZAMBIA (NORTHERNRHODESIA)' 'Bosnia' 'European Union'\n",
      " 'ISLE OF MAN' 'LIBYA(LIBYAN ARAB JAMAHIR)' 'MICRONESIA ' 'Antarctica'\n",
      " 'Antigua & Barbuda' 'Bosnia & Herzegovina' 'Congo, Republic Of.'\n",
      " 'Cote Divoire' 'Czech Republic' 'Guam' 'Kosovar' 'Lao Peoples '\n",
      " 'Macedonia' 'Micronesia ' 'Republic Of Zimbabwe' 'Russian Federation'\n",
      " 'Saint Kitts And Nevis' 'South Africa-Zuid Afrika' 'South Korea '\n",
      " 'Swaziland' 'Syrian Arab Republic' 'Trinidad And Tobago' 'Yemen ' 'Aruba'\n",
      " 'Congo, The Democratic Republic' 'Gambia, The'\n",
      " \"Lao, People's Democratic Republic\" 'Libya(Libyan Arab Jamahir)'\n",
      " 'Saint Vincent The Grenadi' 'Slovakia(Slovak Republic)'\n",
      " 'Taiwan Province of China' 'Viet Nam' 'Yemen (Yemen Arab Republic)'\n",
      " 'Zambia(Northern Rhodesia)' 'Republic of China\\n(China+Taiwan)'\n",
      " \"Lao, People's Democratic \"]\n"
     ]
    }
   ],
   "source": [
    "print(data['Country'].unique())"
   ]
  },
  {
   "cell_type": "code",
   "execution_count": 21,
   "metadata": {},
   "outputs": [
    {
     "name": "stdout",
     "output_type": "stream",
     "text": [
      "Year               0\n",
      "Country            0\n",
      "Month              0\n",
      "Tourist_Arrival    0\n",
      "dtype: int64\n"
     ]
    }
   ],
   "source": [
    "print(data.isnull().sum())"
   ]
  },
  {
   "cell_type": "code",
   "execution_count": 22,
   "metadata": {},
   "outputs": [],
   "source": [
    "# Month name to number mapping\n",
    "month_mapping = {\n",
    "    'January': 1, 'February': 2, 'March': 3, 'April': 4, 'May': 5, 'June': 6,\n",
    "    'July': 7, 'August': 8, 'September': 9, 'October': 10, 'November': 11, 'December': 12\n",
    "}"
   ]
  },
  {
   "cell_type": "code",
   "execution_count": 23,
   "metadata": {},
   "outputs": [],
   "source": [
    "# Convert Month name to number\n",
    "data['Month'] = data['Month'].map(month_mapping)"
   ]
  },
  {
   "cell_type": "code",
   "execution_count": 24,
   "metadata": {},
   "outputs": [],
   "source": [
    "# Combine Year and Month into a Date column\n",
    "data['Date'] = pd.to_datetime(data['Year'].astype(str) + '-' + data['Month'].astype(str) + '-01', format='%Y-%m-%d')"
   ]
  },
  {
   "cell_type": "code",
   "execution_count": 25,
   "metadata": {},
   "outputs": [
    {
     "name": "stdout",
     "output_type": "stream",
     "text": [
      "   Year  Month       Date\n",
      "0  2018      1 2018-01-01\n",
      "1  2018      1 2018-01-01\n",
      "2  2018      1 2018-01-01\n",
      "3  2018      1 2018-01-01\n",
      "4  2018      1 2018-01-01\n"
     ]
    }
   ],
   "source": [
    "# Check the result\n",
    "print(data[['Year', 'Month', 'Date']].head())\n"
   ]
  },
  {
   "cell_type": "code",
   "execution_count": 26,
   "metadata": {},
   "outputs": [
    {
     "name": "stdout",
     "output_type": "stream",
     "text": [
      "<bound method NDFrame.head of        Year         Country  Month Tourist_Arrival       Date\n",
      "0      2018           India      1          37,936 2018-01-01\n",
      "1      2018           China      1          24,275 2018-01-01\n",
      "2      2018  United Kingdom      1          22,940 2018-01-01\n",
      "3      2018         Germany      1          15,298 2018-01-01\n",
      "4      2018       Australia      1           9,452 2018-01-01\n",
      "...     ...             ...    ...             ...        ...\n",
      "15894  2024       Venezuela     11              14 2024-11-01\n",
      "15895  2024        Viet Nam     11             346 2024-11-01\n",
      "15896  2024          Yemen      11              40 2024-11-01\n",
      "15897  2024          Zambia     11               8 2024-11-01\n",
      "15898  2024        Zimbabwe     11              26 2024-11-01\n",
      "\n",
      "[15899 rows x 5 columns]>\n"
     ]
    }
   ],
   "source": [
    "print(data.head)"
   ]
  },
  {
   "cell_type": "code",
   "execution_count": 27,
   "metadata": {},
   "outputs": [],
   "source": [
    "# Function to label seasons based on Sri Lanka's seasonal patterns\n",
    "def label_srilanka_season(month):\n",
    "    if month in [9, 10, 11, 12, 1, 2, 3]:  # Maha Season: Sept to March\n",
    "        return 'Maha Season'\n",
    "    elif month in [5, 6, 7, 8]:  # Yala Season: May to August\n",
    "        return 'Yala Season'\n",
    "    else:  # Inter-monsoon Season: Oct to early Nov\n",
    "        return 'Inter-monsoon'"
   ]
  },
  {
   "cell_type": "code",
   "execution_count": 28,
   "metadata": {},
   "outputs": [],
   "source": [
    "# Create derived columns\n",
    "data['Quarter'] = data['Date'].dt.quarter"
   ]
  },
  {
   "cell_type": "code",
   "execution_count": 29,
   "metadata": {},
   "outputs": [],
   "source": [
    "data['Season'] = data['Date'].dt.month.apply(label_srilanka_season)"
   ]
  },
  {
   "cell_type": "code",
   "execution_count": 30,
   "metadata": {},
   "outputs": [
    {
     "name": "stdout",
     "output_type": "stream",
     "text": [
      "   Year  Month       Date  Quarter       Season\n",
      "0  2018      1 2018-01-01        1  Maha Season\n",
      "1  2018      1 2018-01-01        1  Maha Season\n",
      "2  2018      1 2018-01-01        1  Maha Season\n",
      "3  2018      1 2018-01-01        1  Maha Season\n",
      "4  2018      1 2018-01-01        1  Maha Season\n"
     ]
    }
   ],
   "source": [
    "# Check the result\n",
    "print(data[['Year', 'Month', 'Date', 'Quarter', 'Season']].head())"
   ]
  },
  {
   "cell_type": "code",
   "execution_count": 31,
   "metadata": {},
   "outputs": [
    {
     "name": "stdout",
     "output_type": "stream",
     "text": [
      "<bound method NDFrame.head of        Year         Country  Month Tourist_Arrival       Date  Quarter  \\\n",
      "0      2018           India      1          37,936 2018-01-01        1   \n",
      "1      2018           China      1          24,275 2018-01-01        1   \n",
      "2      2018  United Kingdom      1          22,940 2018-01-01        1   \n",
      "3      2018         Germany      1          15,298 2018-01-01        1   \n",
      "4      2018       Australia      1           9,452 2018-01-01        1   \n",
      "...     ...             ...    ...             ...        ...      ...   \n",
      "15894  2024       Venezuela     11              14 2024-11-01        4   \n",
      "15895  2024        Viet Nam     11             346 2024-11-01        4   \n",
      "15896  2024          Yemen      11              40 2024-11-01        4   \n",
      "15897  2024          Zambia     11               8 2024-11-01        4   \n",
      "15898  2024        Zimbabwe     11              26 2024-11-01        4   \n",
      "\n",
      "            Season  \n",
      "0      Maha Season  \n",
      "1      Maha Season  \n",
      "2      Maha Season  \n",
      "3      Maha Season  \n",
      "4      Maha Season  \n",
      "...            ...  \n",
      "15894  Maha Season  \n",
      "15895  Maha Season  \n",
      "15896  Maha Season  \n",
      "15897  Maha Season  \n",
      "15898  Maha Season  \n",
      "\n",
      "[15899 rows x 7 columns]>\n"
     ]
    }
   ],
   "source": [
    "print(data.head)"
   ]
  },
  {
   "cell_type": "code",
   "execution_count": 32,
   "metadata": {},
   "outputs": [
    {
     "name": "stdout",
     "output_type": "stream",
     "text": [
      "               Year         Month                           Date       Quarter\n",
      "count  15899.000000  15899.000000                          15899  15899.000000\n",
      "mean    2020.946978      6.433235  2021-05-25 21:42:25.292156672      2.481791\n",
      "min     2018.000000      1.000000            2018-01-01 00:00:00      1.000000\n",
      "25%     2019.000000      3.000000            2019-09-01 00:00:00      1.000000\n",
      "50%     2021.000000      6.000000            2021-06-01 00:00:00      2.000000\n",
      "75%     2023.000000      9.000000            2023-03-01 00:00:00      3.000000\n",
      "max     2024.000000     12.000000            2024-11-01 00:00:00      4.000000\n",
      "std        1.994746      3.419122                            NaN      1.112478\n",
      "Season\n",
      "Maha Season      9194\n",
      "Yala Season      5364\n",
      "Inter-monsoon    1341\n",
      "Name: count, dtype: int64\n"
     ]
    }
   ],
   "source": [
    "print(data.describe())  # Summary statistics of numeric columns\n",
    "print(data['Season'].value_counts())  # Frequency of each season"
   ]
  },
  {
   "cell_type": "code",
   "execution_count": 34,
   "metadata": {},
   "outputs": [
    {
     "name": "stdout",
     "output_type": "stream",
     "text": [
      "Year               0\n",
      "Country            0\n",
      "Month              0\n",
      "Tourist_Arrival    0\n",
      "Date               0\n",
      "Quarter            0\n",
      "Season             0\n",
      "dtype: int64\n"
     ]
    }
   ],
   "source": [
    "print(data.isnull().sum())"
   ]
  },
  {
   "cell_type": "code",
   "execution_count": 35,
   "metadata": {},
   "outputs": [],
   "source": [
    "import matplotlib.pyplot as plt\n",
    "import seaborn as sns"
   ]
  },
  {
   "cell_type": "code",
   "execution_count": 33,
   "metadata": {},
   "outputs": [
    {
     "name": "stdout",
     "output_type": "stream",
     "text": [
      "Index(['Year', 'Country', 'Month', 'Tourist_Arrival', 'Date', 'Quarter',\n",
      "       'Season'],\n",
      "      dtype='object')\n"
     ]
    }
   ],
   "source": [
    "print(data.columns)"
   ]
  },
  {
   "cell_type": "code",
   "execution_count": 36,
   "metadata": {},
   "outputs": [
    {
     "name": "stdout",
     "output_type": "stream",
     "text": [
      "Year                        int64\n",
      "Country                    object\n",
      "Month                       int64\n",
      "Tourist_Arrival            object\n",
      "Date               datetime64[ns]\n",
      "Quarter                     int32\n",
      "Season                     object\n",
      "dtype: object\n"
     ]
    }
   ],
   "source": [
    "print(data.dtypes)"
   ]
  },
  {
   "cell_type": "code",
   "execution_count": 37,
   "metadata": {},
   "outputs": [],
   "source": [
    "data.to_csv('cd_data.csv', index=False)"
   ]
  },
  {
   "cell_type": "code",
   "execution_count": 38,
   "metadata": {},
   "outputs": [],
   "source": [
    "# Ensure 'Season' is categorical\n",
    "data['Season'] = data['Season'].astype('category')"
   ]
  },
  {
   "cell_type": "code",
   "execution_count": 39,
   "metadata": {},
   "outputs": [
    {
     "name": "stdout",
     "output_type": "stream",
     "text": [
      "Year                        int64\n",
      "Country                    object\n",
      "Month                       int64\n",
      "Tourist_Arrival            object\n",
      "Date               datetime64[ns]\n",
      "Quarter                     int32\n",
      "Season                   category\n",
      "dtype: object\n"
     ]
    }
   ],
   "source": [
    "# Check the types to confirm\n",
    "print(data.dtypes)"
   ]
  },
  {
   "cell_type": "code",
   "execution_count": 40,
   "metadata": {},
   "outputs": [
    {
     "name": "stdout",
     "output_type": "stream",
     "text": [
      "Year               0\n",
      "Country            0\n",
      "Month              0\n",
      "Tourist_Arrival    0\n",
      "Date               0\n",
      "Quarter            0\n",
      "Season             0\n",
      "dtype: int64\n"
     ]
    }
   ],
   "source": [
    "print(data.isnull().sum())"
   ]
  },
  {
   "cell_type": "code",
   "execution_count": 41,
   "metadata": {},
   "outputs": [],
   "source": [
    "data['Tourist_Arrival'] = data['Tourist_Arrival'].str.replace(',', '', regex=False)"
   ]
  },
  {
   "cell_type": "code",
   "execution_count": 43,
   "metadata": {},
   "outputs": [
    {
     "name": "stdout",
     "output_type": "stream",
     "text": [
      "Year                0\n",
      "Country             0\n",
      "Month               0\n",
      "Tourist_Arrival    50\n",
      "Date                0\n",
      "Quarter             0\n",
      "Season              0\n",
      "dtype: int64\n"
     ]
    }
   ],
   "source": [
    "print(data.isnull().sum())"
   ]
  },
  {
   "cell_type": "code",
   "execution_count": 44,
   "metadata": {},
   "outputs": [
    {
     "data": {
      "text/html": [
       "<div>\n",
       "<style scoped>\n",
       "    .dataframe tbody tr th:only-of-type {\n",
       "        vertical-align: middle;\n",
       "    }\n",
       "\n",
       "    .dataframe tbody tr th {\n",
       "        vertical-align: top;\n",
       "    }\n",
       "\n",
       "    .dataframe thead th {\n",
       "        text-align: right;\n",
       "    }\n",
       "</style>\n",
       "<table border=\"1\" class=\"dataframe\">\n",
       "  <thead>\n",
       "    <tr style=\"text-align: right;\">\n",
       "      <th></th>\n",
       "      <th>Year</th>\n",
       "      <th>Country</th>\n",
       "      <th>Month</th>\n",
       "      <th>Tourist_Arrival</th>\n",
       "      <th>Date</th>\n",
       "      <th>Quarter</th>\n",
       "      <th>Season</th>\n",
       "    </tr>\n",
       "  </thead>\n",
       "  <tbody>\n",
       "    <tr>\n",
       "      <th>0</th>\n",
       "      <td>2018</td>\n",
       "      <td>India</td>\n",
       "      <td>1</td>\n",
       "      <td>37936</td>\n",
       "      <td>2018-01-01</td>\n",
       "      <td>1</td>\n",
       "      <td>Maha Season</td>\n",
       "    </tr>\n",
       "    <tr>\n",
       "      <th>1</th>\n",
       "      <td>2018</td>\n",
       "      <td>China</td>\n",
       "      <td>1</td>\n",
       "      <td>24275</td>\n",
       "      <td>2018-01-01</td>\n",
       "      <td>1</td>\n",
       "      <td>Maha Season</td>\n",
       "    </tr>\n",
       "    <tr>\n",
       "      <th>2</th>\n",
       "      <td>2018</td>\n",
       "      <td>United Kingdom</td>\n",
       "      <td>1</td>\n",
       "      <td>22940</td>\n",
       "      <td>2018-01-01</td>\n",
       "      <td>1</td>\n",
       "      <td>Maha Season</td>\n",
       "    </tr>\n",
       "    <tr>\n",
       "      <th>3</th>\n",
       "      <td>2018</td>\n",
       "      <td>Germany</td>\n",
       "      <td>1</td>\n",
       "      <td>15298</td>\n",
       "      <td>2018-01-01</td>\n",
       "      <td>1</td>\n",
       "      <td>Maha Season</td>\n",
       "    </tr>\n",
       "    <tr>\n",
       "      <th>4</th>\n",
       "      <td>2018</td>\n",
       "      <td>Australia</td>\n",
       "      <td>1</td>\n",
       "      <td>9452</td>\n",
       "      <td>2018-01-01</td>\n",
       "      <td>1</td>\n",
       "      <td>Maha Season</td>\n",
       "    </tr>\n",
       "  </tbody>\n",
       "</table>\n",
       "</div>"
      ],
      "text/plain": [
       "   Year         Country  Month Tourist_Arrival       Date  Quarter  \\\n",
       "0  2018           India      1           37936 2018-01-01        1   \n",
       "1  2018           China      1           24275 2018-01-01        1   \n",
       "2  2018  United Kingdom      1           22940 2018-01-01        1   \n",
       "3  2018         Germany      1           15298 2018-01-01        1   \n",
       "4  2018       Australia      1            9452 2018-01-01        1   \n",
       "\n",
       "        Season  \n",
       "0  Maha Season  \n",
       "1  Maha Season  \n",
       "2  Maha Season  \n",
       "3  Maha Season  \n",
       "4  Maha Season  "
      ]
     },
     "execution_count": 44,
     "metadata": {},
     "output_type": "execute_result"
    }
   ],
   "source": [
    "data.head()"
   ]
  },
  {
   "cell_type": "code",
   "execution_count": 45,
   "metadata": {},
   "outputs": [],
   "source": [
    "data['Tourist_Arrival']= data['Tourist_Arrival'].fillna(0)"
   ]
  },
  {
   "cell_type": "code",
   "execution_count": 41,
   "metadata": {},
   "outputs": [
    {
     "name": "stdout",
     "output_type": "stream",
     "text": [
      "   Year         Country  Month Tourist_Arrival       Date  Quarter  \\\n",
      "0  2018           India      1           37936 2018-01-01        1   \n",
      "1  2018           China      1           24275 2018-01-01        1   \n",
      "2  2018  United Kingdom      1           22940 2018-01-01        1   \n",
      "3  2018         Germany      1           15298 2018-01-01        1   \n",
      "4  2018       Australia      1            9452 2018-01-01        1   \n",
      "\n",
      "        Season  \n",
      "0  Maha Season  \n",
      "1  Maha Season  \n",
      "2  Maha Season  \n",
      "3  Maha Season  \n",
      "4  Maha Season  \n"
     ]
    }
   ],
   "source": [
    "print(data.head())"
   ]
  },
  {
   "cell_type": "code",
   "execution_count": 46,
   "metadata": {},
   "outputs": [],
   "source": [
    "# Convert 'Tourist_Arrival' to numeric (if not already)\n",
    "data['Tourist_Arrival'] = pd.to_numeric(data['Tourist_Arrival'], errors='coerce')"
   ]
  },
  {
   "cell_type": "code",
   "execution_count": 47,
   "metadata": {},
   "outputs": [
    {
     "name": "stdout",
     "output_type": "stream",
     "text": [
      "Year               0\n",
      "Country            0\n",
      "Month              0\n",
      "Tourist_Arrival    0\n",
      "Date               0\n",
      "Quarter            0\n",
      "Season             0\n",
      "dtype: int64\n"
     ]
    }
   ],
   "source": [
    "print(data.isnull().sum())"
   ]
  },
  {
   "cell_type": "code",
   "execution_count": 48,
   "metadata": {},
   "outputs": [
    {
     "name": "stdout",
     "output_type": "stream",
     "text": [
      "Year                        int64\n",
      "Country                    object\n",
      "Month                       int64\n",
      "Tourist_Arrival             int64\n",
      "Date               datetime64[ns]\n",
      "Quarter                     int32\n",
      "Season                   category\n",
      "dtype: object\n"
     ]
    }
   ],
   "source": [
    "print(data.dtypes)"
   ]
  },
  {
   "cell_type": "code",
   "execution_count": 49,
   "metadata": {},
   "outputs": [
    {
     "name": "stdout",
     "output_type": "stream",
     "text": [
      "Year               0\n",
      "Country            0\n",
      "Month              0\n",
      "Tourist_Arrival    0\n",
      "Date               0\n",
      "Quarter            0\n",
      "Season             0\n",
      "dtype: int64\n"
     ]
    }
   ],
   "source": [
    "print(data.isnull().sum())"
   ]
  },
  {
   "cell_type": "code",
   "execution_count": 50,
   "metadata": {},
   "outputs": [
    {
     "data": {
      "image/png": "[encoded data removed]",
      "text/plain": [
       "<Figure size 1000x600 with 1 Axes>"
      ]
     },
     "metadata": {},
     "output_type": "display_data"
    }
   ],
   "source": [
    "plt.figure(figsize=(10, 6))\n",
    "data.groupby('Date')['Tourist_Arrival'].sum().plot()\n",
    "plt.title('Trend of Tourist Arrivals Over Time')\n",
    "plt.ylabel('Total Tourist Arrivals')\n",
    "plt.xlabel('Date')\n",
    "plt.grid(True)\n",
    "plt.show()\n"
   ]
  },
  {
   "cell_type": "code",
   "execution_count": 51,
   "metadata": {},
   "outputs": [
    {
     "name": "stderr",
     "output_type": "stream",
     "text": [
      "C:\\Users\\dinon\\AppData\\Local\\Temp\\ipykernel_27080\\1790293514.py:2: FutureWarning: \n",
      "\n",
      "Passing `palette` without assigning `hue` is deprecated and will be removed in v0.14.0. Assign the `x` variable to `hue` and set `legend=False` for the same effect.\n",
      "\n",
      "  sns.boxplot(x='Season', y='Tourist_Arrival', data=data, palette='Set2')\n"
     ]
    },
    {
     "data": {
      "image/png": "[encoded data removed]",
      "text/plain": [
       "<Figure size 1200x600 with 1 Axes>"
      ]
     },
     "metadata": {},
     "output_type": "display_data"
    }
   ],
   "source": [
    "plt.figure(figsize=(12, 6))\n",
    "sns.boxplot(x='Season', y='Tourist_Arrival', data=data, palette='Set2')\n",
    "plt.title('Tourist Arrivals by Season')\n",
    "plt.xlabel('Season')\n",
    "plt.ylabel('Tourist Arrivals')\n",
    "plt.show()\n"
   ]
  },
  {
   "cell_type": "code",
   "execution_count": 52,
   "metadata": {},
   "outputs": [
    {
     "name": "stderr",
     "output_type": "stream",
     "text": [
      "C:\\Users\\dinon\\AppData\\Local\\Temp\\ipykernel_27080\\1008101816.py:2: FutureWarning: \n",
      "\n",
      "The `ci` parameter is deprecated. Use `errorbar=None` for the same effect.\n",
      "\n",
      "  sns.barplot(x='Quarter', y='Tourist_Arrival', data=data, estimator=sum, ci=None, palette='Blues')\n",
      "C:\\Users\\dinon\\AppData\\Local\\Temp\\ipykernel_27080\\1008101816.py:2: FutureWarning: \n",
      "\n",
      "Passing `palette` without assigning `hue` is deprecated and will be removed in v0.14.0. Assign the `x` variable to `hue` and set `legend=False` for the same effect.\n",
      "\n",
      "  sns.barplot(x='Quarter', y='Tourist_Arrival', data=data, estimator=sum, ci=None, palette='Blues')\n"
     ]
    },
    {
     "data": {
      "image/png": "[encoded data removed]",
      "text/plain": [
       "<Figure size 1000x600 with 1 Axes>"
      ]
     },
     "metadata": {},
     "output_type": "display_data"
    }
   ],
   "source": [
    "plt.figure(figsize=(10, 6))\n",
    "sns.barplot(x='Quarter', y='Tourist_Arrival', data=data, estimator=sum, ci=None, palette='Blues')\n",
    "plt.title('Tourist Arrivals by Quarter')\n",
    "plt.xlabel('Quarter')\n",
    "plt.ylabel('Total Tourist Arrivals')\n",
    "plt.show()\n"
   ]
  },
  {
   "cell_type": "code",
   "execution_count": 53,
   "metadata": {},
   "outputs": [
    {
     "name": "stderr",
     "output_type": "stream",
     "text": [
      "C:\\Users\\dinon\\AppData\\Local\\Temp\\ipykernel_27080\\189892907.py:3: FutureWarning: \n",
      "\n",
      "Passing `palette` without assigning `hue` is deprecated and will be removed in v0.14.0. Assign the `x` variable to `hue` and set `legend=False` for the same effect.\n",
      "\n",
      "  sns.barplot(x=top_countries.index, y=top_countries.values, palette='viridis')\n"
     ]
    },
    {
     "data": {
      "image/png": "[encoded data removed]",
      "text/plain": [
       "<Figure size 1200x600 with 1 Axes>"
      ]
     },
     "metadata": {},
     "output_type": "display_data"
    }
   ],
   "source": [
    "plt.figure(figsize=(12, 6))\n",
    "top_countries = data.groupby('Country')['Tourist_Arrival'].sum().sort_values(ascending=False).head(10)\n",
    "sns.barplot(x=top_countries.index, y=top_countries.values, palette='viridis')\n",
    "plt.title('Top 10 Countries Contributing to Tourist Arrivals')\n",
    "plt.xlabel('Country')\n",
    "plt.ylabel('Total Tourist Arrivals')\n",
    "plt.xticks(rotation=45)\n",
    "plt.show()\n"
   ]
  },
  {
   "cell_type": "code",
   "execution_count": 54,
   "metadata": {},
   "outputs": [],
   "source": [
    "region_mapping = {\n",
    "    \"India\": \"Asia\",\n",
    "    \"China\": \"Asia\",\n",
    "    \"United Kingdom\": \"Europe\",\n",
    "    \"Germany\": \"Europe\",\n",
    "    \"Australia\": \"Oceania\",\n",
    "    \"France\": \"Europe\",\n",
    "    \"Maldives\": \"Asia\",\n",
    "    \"United States\": \"North America\",\n",
    "    \"Russia\": \"Europe\",\n",
    "    \"Netherlands\": \"Europe\",\n",
    "    \"Canada\": \"North America\",\n",
    "    \"Japan\": \"Asia\",\n",
    "    \"Italy\": \"Europe\",\n",
    "    \"Ukraine\": \"Europe\",\n",
    "    \"Saudi Arabia\": \"Asia\",\n",
    "    \"Switzerland\": \"Europe\",\n",
    "    \"Spain\": \"Europe\",\n",
    "    \"Sweden\": \"Europe\",\n",
    "    \"Malaysia\": \"Asia\",\n",
    "    \"Poland\": \"Europe\",\n",
    "    \"Singapore\": \"Asia\",\n",
    "    \"Austria\": \"Europe\",\n",
    "    \"Philippines\": \"Asia\",\n",
    "    \"Denmark\": \"Europe\",\n",
    "    \"Pakistan\": \"Asia\",\n",
    "    \"Czechia\": \"Europe\",\n",
    "    \"Belgium\": \"Europe\",\n",
    "    \"Norway\": \"Europe\",\n",
    "    \"South Korea\": \"Asia\",\n",
    "    \"Israel\": \"Asia\",\n",
    "    \"New Zealand\": \"Oceania\",\n",
    "    \"Ireland\": \"Europe\",\n",
    "    \"Bangladesh\": \"Asia\",\n",
    "    \"Thailand\": \"Asia\",\n",
    "    \"Finland\": \"Europe\",\n",
    "    \"Taiwan\": \"Asia\",\n",
    "    \"Greece\": \"Europe\",\n",
    "    \"South Africa\": \"Africa\",\n",
    "    \"Oman\": \"Asia\",\n",
    "    \"Portugal\": \"Europe\",\n",
    "    \"Romania\": \"Europe\",\n",
    "    \"United Arab Emirates\": \"Asia\",\n",
    "    \"Iran\": \"Asia\",\n",
    "    \"Lebanon\": \"Asia\",\n",
    "    \"Indonesia\": \"Asia\",\n",
    "    \"Nepal\": \"Asia\",\n",
    "    \"Slovakia\": \"Europe\",\n",
    "    \"Belarus\": \"Europe\",\n",
    "    \"Hungary\": \"Europe\",\n",
    "    \"Turkey\": \"Asia\",\n",
    "    \"Slovenia\": \"Europe\",\n",
    "    \"Egypt\": \"Africa\",\n",
    "    \"Kuwait\": \"Asia\",\n",
    "    \"Lithuania\": \"Europe\",\n",
    "    \"Myanmar\": \"Asia\",\n",
    "    \"Vietnam\": \"Asia\",\n",
    "    \"Jordan\": \"Asia\",\n",
    "    \"Bahrain\": \"Asia\",\n",
    "    \"Brazil\": \"South America\",\n",
    "    \"Estonia\": \"Europe\",\n",
    "    \"Kazakhstan\": \"Asia\",\n",
    "    \"Bulgaria\": \"Europe\",\n",
    "    \"Croatia\": \"Europe\",\n",
    "    \"Latvia\": \"Europe\",\n",
    "    \"Argentina\": \"South America\",\n",
    "    \"Serbia\": \"Europe\",\n",
    "    \"Qatar\": \"Asia\",\n",
    "    \"Mexico\": \"North America\",\n",
    "    \"Yemen\": \"Asia\",\n",
    "    \"Armenia\": \"Asia\",\n",
    "    \"Palestinian Territories\": \"Asia\",\n",
    "    \"Morocco\": \"Africa\",\n",
    "    \"Iraq\": \"Asia\",\n",
    "    \"Chile\": \"South America\",\n",
    "    \"Kenya\": \"Africa\",\n",
    "    \"Luxembourg\": \"Europe\",\n",
    "    \"Afghanistan\": \"Asia\",\n",
    "    \"Sudan\": \"Africa\",\n",
    "    \"Cambodia\": \"Asia\",\n",
    "    \"Mauritius\": \"Africa\",\n",
    "    \"Tunisia\": \"Africa\",\n",
    "    \"Colombia\": \"South America\",\n",
    "    \"Georgia\": \"Asia\",\n",
    "    \"Bhutan\": \"Asia\",\n",
    "    \"Cyprus\": \"Asia\",\n",
    "    \"Uzbekistan\": \"Asia\",\n",
    "    \"Azerbaijan\": \"Asia\",\n",
    "    \"Malta\": \"Europe\",\n",
    "    \"Kyrgyzstan\": \"Asia\",\n",
    "    \"Moldova\": \"Europe\",\n",
    "    \"Iceland\": \"Europe\",\n",
    "    \"Seychelles\": \"Africa\",\n",
    "    \"Nigeria\": \"Africa\",\n",
    "    \"Algeria\": \"Africa\",\n",
    "    \"North Macedonia\": \"Europe\",\n",
    "    \"Peru\": \"South America\",\n",
    "    \"Bosnia and Herzegovina\": \"Europe\",\n",
    "    \"Zimbabwe\": \"Africa\",\n",
    "    \"Montenegro\": \"Europe\",\n",
    "    \"Tanzania\": \"Africa\",\n",
    "    \"Venezuela\": \"South America\",\n",
    "    \"Syria\": \"Asia\",\n",
    "    \"Ethiopia\": \"Africa\",\n",
    "    \"Comoros\": \"Africa\",\n",
    "    \"Mongolia\": \"Asia\",\n",
    "    \"Albania\": \"Europe\",\n",
    "    \"Fiji\": \"Oceania\",\n",
    "    \"Laos\": \"Asia\",\n",
    "    \"Ecuador\": \"South America\",\n",
    "    \"Uganda\": \"Africa\",\n",
    "    \"Costa Rica\": \"Central America\",\n",
    "    \"Ghana\": \"Africa\",\n",
    "    \"Liechtenstein\": \"Europe\",\n",
    "    \"Uruguay\": \"South America\",\n",
    "    \"Zambia\": \"Africa\",\n",
    "    \"Trinidad and Tobago\": \"Caribbean\",\n",
    "    \"Jamaica\": \"Caribbean\",\n",
    "    \"Tajikistan\": \"Asia\",\n",
    "    \"Libya\": \"Africa\",\n",
    "    \"Madagascar\": \"Africa\",\n",
    "    \"Somalia\": \"Africa\",\n",
    "    \"Brunei\": \"Asia\",\n",
    "    \"Papua New Guinea\": \"Oceania\",\n",
    "    \"Bolivia\": \"South America\",\n",
    "    \"Turkmenistan\": \"Asia\",\n",
    "    \"Eritrea\": \"Africa\",\n",
    "    \"Namibia\": \"Africa\",\n",
    "    \"Monaco\": \"Europe\",\n",
    "    \"Guatemala\": \"Central America\",\n",
    "    \"Panama\": \"Central America\",\n",
    "    \"Andorra\": \"Europe\",\n",
    "    \"Cuba\": \"Caribbean\",\n",
    "    \"Mozambique\": \"Africa\",\n",
    "    \"Dominica\": \"Caribbean\",\n",
    "    \"Honduras\": \"Central America\",\n",
    "    \"Bahamas\": \"Caribbean\",\n",
    "    \"Botswana\": \"Africa\",\n",
    "    \"Timor-Leste\": \"Asia\",\n",
    "    \"El Salvador\": \"Central America\",\n",
    "    \"Saint Kitts and Nevis\": \"Caribbean\",\n",
    "    \"Dominican Republic\": \"Caribbean\",\n",
    "    \"Senegal\": \"Africa\",\n",
    "    \"Malawi\": \"Africa\",\n",
    "    \"Congo\": \"Africa\",\n",
    "    \"Kosovo\": \"Europe\",\n",
    "    \"Nicaragua\": \"Central America\",\n",
    "    \"San Marino\": \"Europe\",\n",
    "    \"Suriname\": \"South America\",\n",
    "    \"Hong Kong\": \"Asia\",\n",
    "    \"Cameroon\": \"Africa\",\n",
    "    \"Guyana\": \"South America\",\n",
    "    \"Paraguay\": \"South America\",\n",
    "    \"Antigua and Barbuda\": \"Caribbean\",\n",
    "    \"Ivory Coast\": \"Africa\",\n",
    "    \"Burkina Faso\": \"Africa\",\n",
    "    \"Sierra Leone\": \"Africa\",\n",
    "    \"Barbados\": \"Caribbean\",\n",
    "    \"Burundi\": \"Africa\",\n",
    "    \"Rwanda\": \"Africa\",\n",
    "    \"Mali\": \"Africa\",\n",
    "    \"South Sudan\": \"Africa\",\n",
    "    \"Vanuatu\": \"Oceania\",\n",
    "    \"Belize\": \"Central America\",\n",
    "    \"Eswatini\": \"Africa\",\n",
    "    \"Grenada\": \"Caribbean\",\n",
    "    \"Solomon Islands\": \"Oceania\",\n",
    "    \"Liberia\": \"Africa\",\n",
    "    \"Benin\": \"Africa\",\n",
    "    \"Guinea-Bissau\": \"Africa\",\n",
    "    \"Haiti\": \"Caribbean\",\n",
    "    \"Togo\": \"Africa\",\n",
    "    \"Tonga\": \"Oceania\",\n",
    "    \"Angola\": \"Africa\",\n",
    "    \"Djibouti\": \"Africa\",\n",
    "    \"Gambia\": \"Africa\",\n",
    "    \"Lesotho\": \"Africa\",\n",
    "    \"Saint Lucia\": \"Caribbean\",\n",
    "    \"Tuvalu\": \"Oceania\",\n",
    "    \"Cape Verde\": \"Africa\",\n",
    "    \"Gabon\": \"Africa\",\n",
    "    \"Niger\": \"Africa\",\n",
    "    \"Palau\": \"Oceania\",\n",
    "    \"Chad\": \"Africa\",\n",
    "    \"Marshall Islands\": \"Oceania\",\n",
    "    \"Samoa\": \"Oceania\",\n",
    "    \"Kiribati\": \"Oceania\",\n",
    "    \"Mauritania\": \"Africa\",\n",
    "    \"Micronesia\": \"Oceania\",\n",
    "    \"Saint Vincent and the Grenadines\": \"Caribbean\",\n",
    "    \"North Korea\": \"Asia\",\n",
    "    \"Central African Republic\": \"Africa\",\n",
    "    \"Nauru\": \"Oceania\",\n",
    "    \"Netherlands Antilles\": \"Caribbean\",\n",
    "    \"São Tomé and Príncipe\": \"Africa\",\n",
    "    \"Vatican City\": \"Europe\",\n",
    "    \"Antigua and Barbuda\": \"Caribbean\",\n",
    "    \"Bosnia and Herzegovina\": \"Europe\",\n",
    "    \"Brunei Darussalam\": \"Asia\",\n",
    "    \"Burundi\": \"Africa\",\n",
    "    \"Democratic Republic of the Congo\": \"Africa\",\n",
    "    \"Republic of the Congo\": \"Africa\",\n",
    "    \"Ivory Coast\": \"Africa\",\n",
    "    \"The Gambia\": \"Africa\",\n",
    "    \"Guinea\": \"Africa\",\n",
    "    \"Guinea-Bissau\": \"Africa\",\n",
    "    \"Kosovo\": \"Europe\",\n",
    "    \"Laos\": \"Asia\",\n",
    "    \"Saint Kitts and Nevis\": \"Caribbean\",\n",
    "    \"Saint Vincent and the Grenadines\": \"Caribbean\",\n",
    "    \"Serbia\": \"Europe\",\n",
    "    \"Seychelles\": \"Africa\",\n",
    "    \"Slovakia\": \"Europe\",\n",
    "    \"Solomon Islands\": \"Oceania\",\n",
    "    \"South Africa\": \"Africa\",\n",
    "    \"Taiwan\": \"Asia\",\n",
    "    \"Trinidad and Tobago\": \"Caribbean\",\n",
    "    \"United States\": \"North America\",\n",
    "    \"Vietnam\": \"Asia\",\n",
    "    \"Yemen\": \"Asia\",\n",
    "    \"Zambia\": \"Africa\",\n",
    "    \"Central African Republic\": \"Africa\",\n",
    "    \"Republic\": \"Africa\",\n",
    "    \"Dominican Republic\": \"Caribbean\",\n",
    "    \"Equatorial Guinea\": \"Africa\",\n",
    "    \"Laos\": \"Asia\",\n",
    "    \"Libya\": \"Africa\",\n",
    "    \"Zimbabwe\": \"Africa\",\n",
    "    \"South Africa\": \"Africa\",\n",
    "    \"Zambia\": \"Africa\"\n",
    "}\n"
   ]
  },
  {
   "cell_type": "code",
   "execution_count": 55,
   "metadata": {},
   "outputs": [],
   "source": [
    "# Apply the mapping to create the 'Region' column\n",
    "data['Region'] = data['Country'].map(region_mapping)"
   ]
  },
  {
   "cell_type": "code",
   "execution_count": 56,
   "metadata": {},
   "outputs": [
    {
     "name": "stdout",
     "output_type": "stream",
     "text": [
      "          Country   Region\n",
      "0           India     Asia\n",
      "1           China     Asia\n",
      "2  United Kingdom   Europe\n",
      "3         Germany   Europe\n",
      "4       Australia  Oceania\n"
     ]
    }
   ],
   "source": [
    "# Verify that the 'Region' column is created\n",
    "print(data[['Country', 'Region']].head())"
   ]
  },
  {
   "cell_type": "code",
   "execution_count": 57,
   "metadata": {},
   "outputs": [
    {
     "name": "stderr",
     "output_type": "stream",
     "text": [
      "C:\\Users\\dinon\\AppData\\Local\\Temp\\ipykernel_27080\\691738397.py:6: FutureWarning: \n",
      "\n",
      "Passing `palette` without assigning `hue` is deprecated and will be removed in v0.14.0. Assign the `x` variable to `hue` and set `legend=False` for the same effect.\n",
      "\n",
      "  sns.barplot(x=region_summary.index, y=region_summary.values, palette='Blues')\n"
     ]
    },
    {
     "data": {
      "image/png": "[encoded data removed]",
      "text/plain": [
       "<Figure size 1000x600 with 1 Axes>"
      ]
     },
     "metadata": {},
     "output_type": "display_data"
    }
   ],
   "source": [
    "# Group by 'Region' and sum 'Tourist_Arrival'\n",
    "region_summary = data.groupby('Region')['Tourist_Arrival'].sum().sort_values(ascending=False)\n",
    "\n",
    "# Plot the barplot\n",
    "plt.figure(figsize=(10, 6))\n",
    "sns.barplot(x=region_summary.index, y=region_summary.values, palette='Blues')\n",
    "plt.title('Tourist Arrivals by Region')\n",
    "plt.xlabel('Region')\n",
    "plt.ylabel('Total Tourist Arrivals')\n",
    "plt.show()\n"
   ]
  },
  {
   "cell_type": "code",
   "execution_count": 58,
   "metadata": {},
   "outputs": [
    {
     "name": "stdout",
     "output_type": "stream",
     "text": [
      "Total Tourist Arrivals by Year:\n",
      "Year\n",
      "2018    2333796\n",
      "2019    1913702\n",
      "2020     507311\n",
      "2021     194493\n",
      "2022     719978\n",
      "2023    1487303\n",
      "2024    1804873\n",
      "Name: Tourist_Arrival, dtype: int64\n"
     ]
    }
   ],
   "source": [
    "total_arrivals_by_year = data.groupby('Year')['Tourist_Arrival'].sum()\n",
    "print(f\"Total Tourist Arrivals by Year:\\n{total_arrivals_by_year}\")\n"
   ]
  },
  {
   "cell_type": "code",
   "execution_count": 59,
   "metadata": {},
   "outputs": [],
   "source": [
    "data.to_csv('Cleaned_data.csv', index=False)"
   ]
  }
 ],
 "metadata": {
  "kernelspec": {
   "display_name": "Python 3",
   "language": "python",
   "name": "python3"
  },
  "language_info": {
   "codemirror_mode": {
    "name": "ipython",
    "version": 3
   },
   "file_extension": ".py",
   "mimetype": "text/x-python",
   "name": "python",
   "nbconvert_exporter": "python",
   "pygments_lexer": "ipython3",
   "version": "3.12.1"
  }
 },
 "nbformat": 4,
 "nbformat_minor": 2
}
